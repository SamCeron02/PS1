{
 "cells": [
  {
   "cell_type": "markdown",
   "id": "dbd7e79d-3a0e-43fd-8193-8d9f96f7dc25",
   "metadata": {},
   "source": [
    "# Problem Set 1 (PS1): A Deeper Dive into Malkiel's Theorem 4\n",
    "Malkiel proposed five theorems that govern the price of fixed-income debt securities, e.g., Treasury Bills, Notes, and Bonds, as a function of the duration, yield, and coupon (interest) rate  values:\n",
    "\n",
    "> [Malkiel, B. G. (1962). Expectations, Bond Prices, and the Term Structure of Interest Rates. The Quarterly Journal of Economics, 76(2), 197–218. https://doi.org/10.2307/1880816](https://www.jstor.org/stable/1880816)\n",
    "\n",
    "In class, we showed (by simulation) that we could observe the essential stipulation of `Theorem 4`: Price movements resulting from equal absolute increases and decreases in yield are asymmetric; i.e., decreasing yields raise bond prices more than the same increase in yields lowers prices. However, during the discussion of the simulation results, we ran up against an interesting question: \n",
    "> __Question__: Would you expect the price asymmetry to increase or decrease with the duration of the note or bond?\n",
    "\n",
    "### Tasks\n",
    "This problem set's objective is to explore the price asymmetry question we introduced in the lecture by simulating price changes in different instruments resulting from changes in $\\bar{r}$.\n",
    "* __Prerequisite__: Load the Treasury auction dataset. We load some data and set some stuff that we use below. There is nothing to do in the __prerequisite__ section, but check it out if you are curious.\n",
    "* __Task 1__: Compute prices for a Bill, Note, and Bond to check our implementation. We've selected some Treasury securities from the dataset, but we must build models and compute prices (and other data). In this task, you will create (and populate) models of a Bill, a Note, and a Bond and compare the computed price with the price observed at auction.\n",
    "* __Task 2__: In class, we showed that notes (and, by extension, bonds) show price change asymmetry. However, we have not explored whether Bills also have this property. In this task, you'll use the treasury bill model we created above and explore the price asymmetry question by simulation.\n",
    "* __Task 3__: Finally, in class, we showed that coupon securities exhibited price asymmetry, i.e., the absolute percentage change in the price was larger for decreases in $\\bar{r}\\downarrow$ compared to the response when $\\bar{r}\\uparrow$ increases. However, are longer-maturity instruments more sensitive to this effect, i.e., do they exhibit a larger asymmetry? Let's do some calculations to explore this question."
   ]
  },
  {
   "cell_type": "markdown",
   "id": "5f650607-3f7e-4e24-a680-2fabf9c2f3e4",
   "metadata": {},
   "source": [
    "## Setup\n",
    "Set up the computational environment using [the `Include.jl` file](Include.jl). The [`Include.jl` file](Include.jl) loads external packages, various functions we will use in the exercise, and custom types to model the components of our example problem.\n",
    "* For additional information on functions and types used in this material, see the [Julia programming language documentation](https://docs.julialang.org/en/v1/) and the [VLQuantitativeFinancePackage.jl documentation](https://github.com/varnerlab/VLQuantitativeFinancePackage.jl)."
   ]
  },
  {
   "cell_type": "code",
   "execution_count": null,
   "id": "1e9d8a32-05e3-4688-b67e-4e66737fe4fd",
   "metadata": {},
   "outputs": [],
   "source": [
    "include(\"Include.jl\");"
   ]
  },
  {
   "cell_type": "markdown",
   "id": "de0a2e1b-295c-4514-a9f5-ace350f7ea2c",
   "metadata": {
    "jp-MarkdownHeadingCollapsed": true
   },
   "source": [
    "## Prerequisite: Load the Treasury auction dataset\n",
    "We'll explore `T-bill,` `T-note,` and `T-bond` prices from United States Treasury auctions between March 2020 and September 2024 downloaded as a `CSV` file using the [Auction query functionality of TreasuryDirect.gov](https://www.treasurydirect.gov/auctions/auction-query/). We load the `CSV` dataset using the local [`MyTreasuryBillsNotesAndBondsDataSet()` function](src/Files.jl), which returns the auction data as [the `dataset::DataFrame`](https://dataframes.juliadata.org/stable/) variable."
   ]
  },
  {
   "cell_type": "code",
   "execution_count": null,
   "id": "5279a66f-574d-4a93-8dc6-cec8c3ea10c3",
   "metadata": {},
   "outputs": [],
   "source": [
    "dataset = MyTreasuryBillsNotesAndBondsDataSet()"
   ]
  },
  {
   "cell_type": "markdown",
   "id": "3d3dc225-45cf-478a-956d-65fc9e6f1ece",
   "metadata": {},
   "source": [
    "To help below, let's use [the `filter!(...)` method exported by the DataFrames.jl package](https://dataframes.juliadata.org/stable/lib/functions/#Base.filter) to collect only the data for the bills; we save this to the `bills_dataset::DataFrame` variable."
   ]
  },
  {
   "cell_type": "code",
   "execution_count": null,
   "id": "c9330cc6-f9ce-46d3-b363-22701a6c2a66",
   "metadata": {},
   "outputs": [],
   "source": [
    "bills_dataset = filter(Symbol(\"Security Type\") => x-> x == \"Bill\", dataset)"
   ]
  },
  {
   "cell_type": "markdown",
   "id": "980bcb98-a80a-409b-b8d5-4df75b4f4a3e",
   "metadata": {},
   "source": [
    "Similarly, we use [the `filter!(...)` method exported by the DataFrames.jl package](https://dataframes.juliadata.org/stable/lib/functions/#Base.filter) to collect only the data for the notes and bonds; we save this to the `notes_bonds_dataset::DataFrame` variable."
   ]
  },
  {
   "cell_type": "code",
   "execution_count": null,
   "id": "bd49e8bd-f20d-4722-a3a4-d0a8f7c417b1",
   "metadata": {},
   "outputs": [],
   "source": [
    "notes_bonds_dataset = filter(Symbol(\"Security Type\") => x-> (x == \"Note\" || x == \"Bond\"), dataset)"
   ]
  },
  {
   "cell_type": "markdown",
   "id": "ffdfa7ec-89e0-4d16-823a-d4f870d5e9b2",
   "metadata": {},
   "source": [
    "Finally, we build an [instance of the `DiscreteCompoundingModel` type](https://varnerlab.github.io/VLQuantitativeFinancePackage.jl/dev/fixed/#VLQuantitativeFinancePackage.DiscreteCompoundingModel) and store this discount model in the `discount_model` variable:"
   ]
  },
  {
   "cell_type": "code",
   "execution_count": null,
   "id": "f521deb3-7d51-44cb-a997-77c15811c0a5",
   "metadata": {},
   "outputs": [],
   "source": [
    "discount_model = DiscreteCompoundingModel();"
   ]
  },
  {
   "cell_type": "markdown",
   "id": "e73e8b52-58a3-4f72-8958-e0fc9abcc565",
   "metadata": {},
   "source": [
    "## Task 1: Compute prices for a Bill, Note, and Bond to check our implementation\n",
    "To verify our code installation (and implementation), the teaching team has selected a random bill, note, and bond from the dataset. In this task, you will construct the corresponding treasury model instance, compute the price for each of these securities, and compare the calculated and observed prices. "
   ]
  },
  {
   "cell_type": "markdown",
   "id": "10773fa7-8193-4b08-a713-8fa28c98799c",
   "metadata": {},
   "source": [
    "### Check: Compute the price of a treasury bill\n",
    "Let's compute the price of a `26-Week` T-bill with par value $V_{P}$ = `100 USD` with a value of $\\bar{r}$ = `0.04865.` The observed price for this security is $V_{B}$ = `97.6315 USD`. Assume two compounding periods per year.\n",
    "* Create an instance of [the `MyUSTreasuryZeroCouponBondModel` type](https://varnerlab.github.io/VLQuantitativeFinancePackage.jl/dev/fixed/#VLQuantitativeFinancePackage.MyUSTreasuryZeroCouponBondModel) using a [custom `build(...)` method](https://varnerlab.github.io/VLQuantitativeFinancePackage.jl/dev/fixed/#VLQuantitativeFinancePackage.build-Tuple{Type{MyUSTreasuryZeroCouponBondModel},%20NamedTuple}), assuming the data above. Pass the data into [the `build(...)` method](https://varnerlab.github.io/VLQuantitativeFinancePackage.jl/dev/fixed/#VLQuantitativeFinancePackage.build-Tuple{Type{MyUSTreasuryZeroCouponBondModel},%20NamedTuple}), and use the short-cut syntax to compute the price. Save the updated model in the `zero_coupon_model` variable. "
   ]
  },
  {
   "cell_type": "code",
   "execution_count": null,
   "id": "e6854f7a-effb-43e1-af0d-f6b128cce8e9",
   "metadata": {},
   "outputs": [],
   "source": [
    "#On the Fixed Income Treasury Secuirty of Prof. Varners textbook, I learned that Par is face value of the bond, n is the two compounding periods, T is a 26 week old \n",
    "#bong, rbar is the discount rate, and VB is the observed price. Given the example in this text book, I constructed the following code where we populate \n",
    "#MyUSTreasuryCouponSecurityModel with the instances provided.\n",
    "zero_coupon_model = build(MyUSTreasuryZeroCouponBondModel, (\n",
    "    n = 2, par = 100, \n",
    "        T = \"26-Week\" |> securityterm,\n",
    "        rate = 0.04865,\n",
    ")) |> discount_model;"
   ]
  },
  {
   "cell_type": "markdown",
   "id": "62f40a66-2242-4d48-8b44-1e2a9a4370dd",
   "metadata": {},
   "source": [
    "Now that we have calculated the price, compare the calculated and observed prices using the [@assert macro](https://docs.julialang.org/en/v1/base/base/#Base.@assert) in combination with [the `isapprox(...)` method](https://docs.julialang.org/en/v1/base/math/#Base.isapprox). \n",
    "* If the computed and observed price is different, i.e., they have relative difference tolerance of `rtol`$>$`1e-4`, then the [@assert macro](https://docs.julialang.org/en/v1/base/base/#Base.@assert) will `fail,` resulting in an [AssertionError](https://docs.julialang.org/en/v1/base/base/#Core.AssertionError)."
   ]
  },
  {
   "cell_type": "code",
   "execution_count": null,
   "id": "b186affa-2f7e-4bbe-9b7d-ba55cbbd5f81",
   "metadata": {},
   "outputs": [],
   "source": [
    "observed_bill_price = 97.6315;\n",
    "@assert isapprox(observed_bill_price, zero_coupon_model.price, rtol=1e-4)"
   ]
  },
  {
   "cell_type": "markdown",
   "id": "faa68886-ac0a-44d7-8ddd-e5b5e6dd6c2e",
   "metadata": {},
   "source": [
    "### Check: Compute the price of a treasury note\n",
    "Let's compute the price of a `7-Year` T-Note with par value $V_{P}$ = `100 USD` with a value of $\\bar{r}$ = `0.04162` and coupon rate $\\bar{c}$ = `0.04125.` The observed sale price for this security at auction was $V_{B}$ = `98.9288 USD`. Assume two compounding periods per year.\n",
    "* Create an [instance of the `MyUSTreasuryCouponSecurityModel` type](https://varnerlab.github.io/VLQuantitativeFinancePackage.jl/dev/fixed/#VLQuantitativeFinancePackage.MyUSTreasuryCouponSecurityModel) using [a custom `build(...)` method](https://varnerlab.github.io/VLQuantitativeFinancePackage.jl/dev/fixed/#VLQuantitativeFinancePackage.build-Tuple{Type{MyUSTreasuryCouponSecurityModel},%20NamedTuple})., assuming the data above. Pass in the appropriate data into [the `build(...)` method](https://varnerlab.github.io/VLQuantitativeFinancePackage.jl/dev/fixed/#VLQuantitativeFinancePackage.build-Tuple{Type{MyUSTreasuryCouponSecurityModel},%20NamedTuple}) and use the short-cut syntax to compute the price. Save the updated model in the `note_coupon_model` variable. "
   ]
  },
  {
   "cell_type": "code",
   "execution_count": null,
   "id": "2e22f327-b4f5-4847-8ee4-a318c39eacea",
   "metadata": {},
   "outputs": [],
   "source": [
    "#Similarly from the previous code, we calculate the T-Note through new values of Lambda (which was n before), and now include T as 7 years and introduce the concept\n",
    "# of a coupon, which is the annual intrest paid on a bond. \n",
    "note_coupon_model = build(MyUSTreasuryCouponSecurityModel, (\n",
    "    λ = 2, par = 100.0,\n",
    "        \n",
    "    T = \"7-Year\" |> securityterm,\n",
    "    rate = 0.04162,\n",
    "    coupon = 0.04125,\n",
    ")) |> discount_model;\n",
    "#all of this gets pushed into the discount_model"
   ]
  },
  {
   "cell_type": "markdown",
   "id": "20097ad0-b28a-421d-8061-caec365aaed2",
   "metadata": {},
   "source": [
    "Now that we have calculated the price, compare the calculated and observed prices using the [@assert macro](https://docs.julialang.org/en/v1/base/base/#Base.@assert) in combination with [the `isapprox(...)` method](https://docs.julialang.org/en/v1/base/math/#Base.isapprox). \n",
    "* If the computed and observed price is different, i.e., they have relative difference tolerance of `rtol`$>$`1e-4`, then the [@assert macro](https://docs.julialang.org/en/v1/base/base/#Base.@assert) will `fail,` resulting in an [AssertionError](https://docs.julialang.org/en/v1/base/base/#Core.AssertionError)."
   ]
  },
  {
   "cell_type": "code",
   "execution_count": null,
   "id": "773ad508-e670-4291-b279-53ef944e65a9",
   "metadata": {},
   "outputs": [],
   "source": [
    "observed_note_price = 99.7773;\n",
    "@assert isapprox(observed_note_price, note_coupon_model.price, rtol=1e-4)\n",
    "#from lecture we can copy the @assert isapprox. First save in the bond price, then save that into the coupon model"
   ]
  },
  {
   "cell_type": "markdown",
   "id": "bdd1c4c8-514a-45d5-b3bc-6d2a4464c752",
   "metadata": {},
   "source": [
    "### Check: Compute the price of a treasury bond\n",
    "Let's compute the price of a `30-Year` T-Bond with par value $V_{P}$ = `100 USD` with a value of $\\bar{r}$ = `0.04314` and coupon rate $\\bar{c}$ = `0.0425.` The observed sale price for this security at auction was $V_{B}$ = `98.9288 USD`. Assume two compounding periods per year.\n",
    "* Create an [instance of the `MyUSTreasuryCouponSecurityModel` type](https://varnerlab.github.io/VLQuantitativeFinancePackage.jl/dev/fixed/#VLQuantitativeFinancePackage.MyUSTreasuryCouponSecurityModel) using [a custom `build(...)` method](https://varnerlab.github.io/VLQuantitativeFinancePackage.jl/dev/fixed/#VLQuantitativeFinancePackage.build-Tuple{Type{MyUSTreasuryCouponSecurityModel},%20NamedTuple})., assuming the data above. Pass in the appropriate data into [the `build(...)` method](https://varnerlab.github.io/VLQuantitativeFinancePackage.jl/dev/fixed/#VLQuantitativeFinancePackage.build-Tuple{Type{MyUSTreasuryCouponSecurityModel},%20NamedTuple}) and use the short-cut syntax to compute the price. Save the updated model in the `bond_coupon_model` variable. "
   ]
  },
  {
   "cell_type": "code",
   "execution_count": null,
   "id": "93f5e3eb-2b63-402e-91d1-ac5499500e40",
   "metadata": {},
   "outputs": [],
   "source": [
    "bond_coupon_model = build(MyUSTreasuryCouponSecurityModel, (\n",
    "    λ = 2, par = 100.0,\n",
    "        \n",
    "    T = \"30-Year\" |> securityterm,\n",
    "    rate = 0.04314,\n",
    "    coupon = 0.0425,\n",
    "    \n",
    ")) |> discount_model;\n",
    "#similarly to the past two examples, the only thing we change is the coupon, rate, and T-bond values. The notation and everything else stays consistent"
   ]
  },
  {
   "cell_type": "markdown",
   "id": "49d86547-e5d4-4d9d-98d8-6d86b4b0b47d",
   "metadata": {},
   "source": [
    "Now that we have calculated the price, compare the calculated and observed prices using the [@assert macro](https://docs.julialang.org/en/v1/base/base/#Base.@assert) in combination with [the `isapprox(...)` method](https://docs.julialang.org/en/v1/base/math/#Base.isapprox). \n",
    "* If the computed and observed price is different, i.e., they have relative difference tolerance of `rtol`$>$`1e-4`, then the [@assert macro](https://docs.julialang.org/en/v1/base/base/#Base.@assert) will `fail,` resulting in an [AssertionError](https://docs.julialang.org/en/v1/base/base/#Core.AssertionError)."
   ]
  },
  {
   "cell_type": "code",
   "execution_count": null,
   "id": "9fc0fd72-17dd-4ff4-8e27-eaa915f7d2e3",
   "metadata": {},
   "outputs": [],
   "source": [
    "observed_bond_price = 98.9288;\n",
    "@assert isapprox(observed_bond_price, bond_coupon_model.price, rtol=1e-4)"
   ]
  },
  {
   "cell_type": "markdown",
   "id": "d4b38812-f871-4af6-b9fd-d4161b038192",
   "metadata": {},
   "source": [
    "## Task 2: Do bills show the price asymmetry property? \n",
    "In class, we showed that notes (and, by extension, bonds) show price change asymmetry. However, we have not explored whether Bills also have this property. In this task, you'll use the treasury bill model that we created above and explore the price asymmetry question by simulation.\n",
    "\n",
    "To simulate the asymmetry of changes in price following changes in the yield (discount rate), all other values held constant generate a new rate of the form $\\bar{r}\\leftarrow\\beta\\cdot\\bar{r}$, where $\\beta$ is a perturbation value; if $\\beta<1$ the perturbed interest rate is _less than_ the nominal rate, if $\\beta=1$ the perturbed interest rate is _equals_ the nominal rate, and if $\\beta>1$ the perturbed interest rate is _greater than_ the nominal rate. Let's use the `zero_coupon_model` instance from above for this experiment.\n",
    "\n",
    "* First, specify the number of perturbation values in the `number_of_samples_task_2` variable; for this simulation, let `number_of_samples_task_2 = 7` (odd, so we capture the nominal case as the center data point).\n",
    "* Next, specify the lower bound in the `β₁` variable and the upper bound in the `β₂` variable; let `β₁ = 0.8` and `β₂ = 1.2.`\n",
    "* Finally, compute the perturbation array (stored in the `β::Array{Float64,1}` variable) using the [range function](https://docs.julialang.org/en/v1/base/math/#Base.range) in combination with the [Julia pipe |> operator](https://docs.julialang.org/en/v1/manual/functions/#Function-composition-and-piping), and the [collect function](https://docs.julialang.org/en/v1/base/collections/#Base.collect-Tuple{Type,%20Any}), which converts a range type to a collection, i.e., an array"
   ]
  },
  {
   "cell_type": "code",
   "execution_count": null,
   "id": "5ca81fb5-47ef-4f07-a194-4eed8ad11a98",
   "metadata": {},
   "outputs": [],
   "source": [
    "number_of_samples_task_2  = 7;\n",
    "β₁ = 0.8;\n",
    "β₂ = 1.2;\n",
    "β = range(β₁, stop = β₂, length = number_of_samples_task_2) |> collect;"
   ]
  },
  {
   "cell_type": "markdown",
   "id": "b47230a9-6da8-4cd9-b595-d5e995e4edd2",
   "metadata": {},
   "source": [
    "`Finish`: Your job is to complete the implementation of the `Theorem 4` simulation for Bills, which we started below, and analyze the simulation results. We save the simulation results in the `simulation_results_task_2_array::Array{Float64,2}` array and display the results in a table using the `pretty_table(...)` function exported from the [PrettyTables.jl package](https://github.com/ronisbr/PrettyTables.jl)\n",
    "*  `Hint`: check out [the Julia `deepcopy(...)` function](https://docs.julialang.org/en/v1/base/copy/#Base.deepcopy). When you complete your implementation and run the notebook, you should see a table similar (numbers different, but similar structure) to the in-class example. Do you see that?"
   ]
  },
  {
   "cell_type": "code",
   "execution_count": null,
   "id": "807b2757-5c65-4631-b5cb-943c7f0a0aba",
   "metadata": {},
   "outputs": [],
   "source": [
    "simulation_results_task_2_array = let\n",
    "    \n",
    "    # initialize -\n",
    "    VB = observed_bill_price;\n",
    "    simulation_results_task_2_array = Array{Float64,2}(undef, number_of_samples_task_2, 3);\n",
    "\n",
    "    # main loop\n",
    "    for i ∈ eachindex(β)\n",
    "        β_value = β[i]\n",
    "       \n",
    "        ### TODO: Build a deep copy of the zero-coupon model and update its rate. Alternatively, build a new model using the zcm parameters, and update the rate\n",
    "        model = deepcopy(zero_coupon_model);\n",
    "        model.rate = β_value*zero_coupon_model.rate\n",
    "    \n",
    "        #deep copy creates a copy of the object so that it becomes independent of the model.\n",
    "        #from lecture, we know that the new rate is the perturbed value times original discount rate\n",
    "        \n",
    "        # compute: use short-cut syntax and compute the price\n",
    "        perturbed_price = model |> discount_model |> x-> x.price\n",
    "        \n",
    "        # capture: put data in simulation_results_task_2_array\n",
    "        simulation_results_task_2_array[i,1] = β_value; # col 1: perturbation value\n",
    "        simulation_results_task_2_array[i,2] = 100*((model.rate - zero_coupon_model.rate)/(zero_coupon_model.rate));    # col 2: percentage change in r̄\n",
    "        simulation_results_task_2_array[i,3] = 100*((model.price - VB)/(VB)); # col 3: percentage change in the price of the Bill\n",
    "    end\n",
    "    simulation_results_task_2_array\n",
    "end;"
   ]
  },
  {
   "cell_type": "code",
   "execution_count": null,
   "id": "e6c62e70-a3b4-45bb-a562-48d686657787",
   "metadata": {},
   "outputs": [],
   "source": [
    "pretty_table(simulation_results_task_2_array, header=[\"β\",\"Δr̄ (%)\",\"ΔPrice (%)\"] , tf=tf_simple)"
   ]
  },
  {
   "cell_type": "markdown",
   "id": "4b741312-4256-4126-9421-54e873422868",
   "metadata": {},
   "source": [
    "#### Does Theorem 4 hold for T-bills?\n",
    "Based on your analysis of the table above, update [the `Bool` value](https://docs.julialang.org/en/v1/base/numbers/#Core.Bool) below (either `true` or `false`):"
   ]
  },
  {
   "cell_type": "code",
   "execution_count": null,
   "id": "9c3f9f5b-0cbb-4916-be0c-da2a4503eb5e",
   "metadata": {},
   "outputs": [],
   "source": [
    "does_theorem_4_hold_for_bills = true; # update this value {true | false}"
   ]
  },
  {
   "cell_type": "markdown",
   "id": "acdc94a5",
   "metadata": {},
   "source": [
    "__Why?__: The answer for this is true. From the chart created, we can see the effects of how the perturbed values change with the discount rate. Therefore, we can also say that T-bills are very sensitive to changes in the discount rate, therefore also \n",
    "showing price change asymmetry, just like bonds and notes. Therefore, theorem 4 also holds for bills."
   ]
  },
  {
   "cell_type": "markdown",
   "id": "b755d02e-991b-4532-bd2a-f5e287285ef6",
   "metadata": {},
   "source": [
    "## Task 3: Is price price asymmetry a function of maturity?\n",
    "Finally, in class, we showed that coupon securities exhibited price asymmetry, i.e., the absolute percentage change in the price was larger for decreases in $\\bar{r}\\downarrow$ compared to the response when $\\bar{r}\\uparrow$ increases. However, are longer-maturity instruments more sensitive to this effect, i.e., do they exhibit a larger asymmetry? Let's do some calculations to explore this question.\n",
    "\n",
    "To start, create a hypothetical `T = 20-year` with the same parameters as the `30-year` bond we created above and compute its price. All parameters should be the same __expect__ the duration. Save the populated model instance in the `short_duration_bond` variable:"
   ]
  },
  {
   "cell_type": "code",
   "execution_count": null,
   "id": "21aa2f35-97dc-4247-9975-48a623cc41b0",
   "metadata": {},
   "outputs": [],
   "source": [
    "#I know that Prof. Varner usually uses the systax where you push something into another thing, but soemtimes it confuses me a bit. Therefore,\n",
    "#I set the T property of short_duration_bond to a 20 year secutiy term. This code is meant tomodel a 20 year term\n",
    "short_duration_bond = deepcopy(bond_coupon_model)\n",
    "short_duration_bond.T = securityterm(\"20-Year\")\n",
    "discount_model(short_duration_bond)"
   ]
  },
  {
   "cell_type": "markdown",
   "id": "bc0ba7c7-3eec-4024-a589-0ebb619b0231",
   "metadata": {},
   "source": [
    "`Finish`: Next, finish implementing the code block below. This code computes the percentage change in the short- and long-maturity bond price and stores the simulation data in the `simulation_results_task_3_array::Array{Float64,2}` array. See the `TODO` block."
   ]
  },
  {
   "cell_type": "code",
   "execution_count": null,
   "id": "c6956b4d-f19d-4a94-8638-120ff379d830",
   "metadata": {},
   "outputs": [],
   "source": [
    "simulation_results_task_3_array = let\n",
    "    \n",
    "    # initialize -\n",
    "    simulation_results_task_3_array = Array{Float64,2}(undef, number_of_samples_task_2, 4);\n",
    "    VB_short = short_duration_bond.price # original\n",
    "    VB_long = bond_coupon_model.price\n",
    "    VBn_short=short_duration_bond.rate\n",
    "    VBn_long=bond_coupon_model.rate\n",
    "\n",
    "    # main loop -\n",
    "    for i ∈ eachindex(β)\n",
    "        β_value = β[i]\n",
    "    \n",
    "        model_short = deepcopy(short_duration_bond); # create a copy of the short-duration model\n",
    "        model_long = deepcopy(bond_coupon_model); # create a copy of the original bond model (long duration)\n",
    "        \n",
    "        ### TODO: update the rate for the model_short, and model_long instances -\n",
    "        model_short.rate = β_value*VBn_short\n",
    "        model_long.rate = β_value*VBn_long\n",
    "        ### END \n",
    "        \n",
    "        # compute: use short-cut syntax and compute the price of the short- and long-duration bonds\n",
    "        perturbed_price_short = model_short |> discount_model |> x-> x.price\n",
    "        perturbed_price_long = model_long |> discount_model |> x-> x.price\n",
    "        \n",
    "        # capture: put data in simulation_results_task_3_array\n",
    "        simulation_results_task_3_array[i,1] = β_value; # col 1: store the perturbation value\n",
    "        simulation_results_task_3_array[i,2] = 100*((model_short.rate - short_duration_bond.rate)/(short_duration_bond.rate));    # col 2: percentage change in r̄\n",
    "        simulation_results_task_3_array[i,3] = 100*((model_short.price - VB_short)/(VB_short)); # col 3: percentage change in the price of the short bond\n",
    "        simulation_results_task_3_array[i,4] = 100*((model_long.price - VB_long)/(VB_long)); # col 4: percentage change in the price of the long bond\n",
    "    end\n",
    "    \n",
    "    simulation_results_task_3_array\n",
    "end;"
   ]
  },
  {
   "cell_type": "code",
   "execution_count": null,
   "id": "124d3276-db40-4d72-861c-f6dbe92bf660",
   "metadata": {},
   "outputs": [],
   "source": [
    "pretty_table(simulation_results_task_3_array, header=[\"β\",\"Δr̄ (%)\", \"ΔPrice-short (%)\", \"ΔPrice-long (%)\"] , tf=tf_simple)"
   ]
  },
  {
   "cell_type": "markdown",
   "id": "fee67944-0dfa-48ca-8487-12cc1aa2e200",
   "metadata": {},
   "source": [
    "#### Does price asymmetry change with duration?\n",
    "Based on your analysis of the table above, update [the `Bool` value](https://docs.julialang.org/en/v1/base/numbers/#Core.Bool) below (either `true` or `false`):"
   ]
  },
  {
   "cell_type": "code",
   "execution_count": null,
   "id": "148c6a16-df63-493d-8393-d8ea1823251a",
   "metadata": {},
   "outputs": [],
   "source": [
    "is_price_asymmetry_func_maturity = true; # update this value {true | false}"
   ]
  },
  {
   "cell_type": "markdown",
   "id": "7ea2a9f2-d9e9-4706-bdd9-4cb29e76dd1c",
   "metadata": {},
   "source": [
    "__Why?__: the percentage in bond prices increases more as the discount rate decreases because the long duration of the bond become way more senstive to changes. The reason for this is because there is a higher chnace of things occuring within the given time frame. Therefore, yes there is a larger asymmetry because cash flow is way more distant and can't account for things in the future as well (more risk!)"
   ]
  },
  {
   "cell_type": "markdown",
   "id": "3e2490e6-aea1-4e8f-903d-522b8ba19607",
   "metadata": {},
   "source": [
    "## Testing\n",
    "In the code block below, we compare your answers to the teaching team and give you feedback on which items are the same (which presumably means they are correct) and which are different. `Unhide` the code block below (if you are curious) about how we implemented the tests and what we are testing."
   ]
  },
  {
   "cell_type": "code",
   "execution_count": null,
   "id": "0f69ab74-c7a8-4927-9053-610d3ed13807",
   "metadata": {
    "jupyter": {
     "source_hidden": true
    }
   },
   "outputs": [],
   "source": [
    "let\n",
    "\n",
    "    # load teaching team solution data -\n",
    "    saved_solution_dict = joinpath(_PATH_TO_SOLN,\"PS1-TeachingTeam-Solution-CHEME-5660-Fall-2024.jld2\") |> load;\n",
    "\n",
    "    @testset verbose = true \"CHEME 5660 problem set 1 test suite\" begin\n",
    "\n",
    "        @testset \"zero-coupon model tests\" begin\n",
    "            zero_model_soln = saved_solution_dict[\"zero_coupon_model\"];\n",
    "\n",
    "            # check the data on the zero model -\n",
    "            @test zero_model_soln.T == zero_coupon_model.T\n",
    "            @test zero_model_soln.n == zero_coupon_model.n\n",
    "            @test zero_model_soln.par == zero_coupon_model.par\n",
    "            @test zero_model_soln.rate == zero_coupon_model.rate\n",
    "            @test isapprox(zero_model_soln.price, zero_coupon_model.price, atol=1e-4)\n",
    "            @test zero_model_soln.cashflow == zero_coupon_model.cashflow\n",
    "            @test zero_model_soln.discount == zero_coupon_model.discount\n",
    "        end\n",
    "\n",
    "        @testset \"note model tests\" begin\n",
    "            note_model_soln = saved_solution_dict[\"note_coupon_model\"];\n",
    "\n",
    "            # check the data on the note -\n",
    "            @test note_model_soln.T == note_coupon_model.T\n",
    "            @test note_model_soln.λ == note_coupon_model.λ\n",
    "            @test note_model_soln.par == note_coupon_model.par\n",
    "            @test note_model_soln.rate == note_coupon_model.rate\n",
    "            @test note_model_soln.coupon == note_coupon_model.coupon\n",
    "            @test isapprox(note_model_soln.price, note_coupon_model.price, atol=1e-4)\n",
    "            @test note_model_soln.cashflow == note_coupon_model.cashflow\n",
    "            @test note_model_soln.discount == note_coupon_model.discount\n",
    "        end\n",
    "\n",
    "        @testset \"bond model tests\" begin\n",
    "            bond_model_soln = saved_solution_dict[\"bond_coupon_model\"];\n",
    "\n",
    "            # check the data on the note -\n",
    "            @test bond_model_soln.T == bond_coupon_model.T\n",
    "            @test bond_model_soln.λ == bond_coupon_model.λ\n",
    "            @test bond_model_soln.par == bond_coupon_model.par\n",
    "            @test bond_model_soln.rate == bond_coupon_model.rate\n",
    "            @test bond_model_soln.coupon == bond_coupon_model.coupon\n",
    "            @test isapprox(bond_model_soln.price, bond_coupon_model.price, atol=1e-4)\n",
    "            @test bond_model_soln.cashflow == bond_coupon_model.cashflow\n",
    "            @test bond_model_soln.discount == bond_coupon_model.discount\n",
    "        end\n",
    "\n",
    "        @testset \"Task 2 tests\" begin\n",
    "            simulation_results_task_2_soln = saved_solution_dict[\"simulation_results_task_2_array\"];\n",
    "            task_2_flag = saved_solution_dict[\"does_theorem_4_hold_for_bills\"];\n",
    "            \n",
    "            @test round.(simulation_results_task_2_soln, digits=4) == round.(simulation_results_task_2_array, digits=4)\n",
    "            @test does_theorem_4_hold_for_bills == task_2_flag\n",
    "        end\n",
    "\n",
    "        @testset \"Task 3 tests\" begin\n",
    "            simulation_results_task_3_soln = saved_solution_dict[\"simulation_results_task_3_array\"];\n",
    "            task_3_flag = saved_solution_dict[\"is_price_asymmetry_func_maturity\"];\n",
    "            \n",
    "            @test round.(simulation_results_task_3_soln, digits=4) == round.(simulation_results_task_3_array, digits=4)\n",
    "            @test is_price_asymmetry_func_maturity == task_3_flag\n",
    "        end\n",
    "    end\n",
    "end;"
   ]
  },
  {
   "cell_type": "markdown",
   "id": "9c8c6693-8ce1-48be-9055-34a5c6c62d9f",
   "metadata": {},
   "source": [
    "## Disclaimer and Risks\n",
    "__This content is offered solely for training and informational purposes__. No offer or solicitation to buy or sell securities or derivative products or any investment or trading advice or strategy is made, given, or endorsed by the teaching team. \n",
    "\n",
    "__Trading involves risk__. Carefully review your financial situation before investing in securities, futures contracts, options, or commodity interests. Past performance, whether actual or indicated by historical tests of strategies, is no guarantee of future performance or success. Trading is generally inappropriate for someone with limited resources, investment or trading experience, or a low-risk tolerance.  Only risk capital that is not required for living expenses.\n",
    "\n",
    "__You are fully responsible for any investment or trading decisions you make__. Such decisions should be based solely on evaluating your financial circumstances, investment or trading objectives, risk tolerance, and liquidity needs."
   ]
  }
 ],
 "metadata": {
  "kernelspec": {
   "display_name": "Julia 1.10.0",
   "language": "julia",
   "name": "julia-1.10"
  },
  "language_info": {
   "file_extension": ".jl",
   "mimetype": "application/julia",
   "name": "julia",
   "version": "1.10.0"
  }
 },
 "nbformat": 4,
 "nbformat_minor": 5
}
